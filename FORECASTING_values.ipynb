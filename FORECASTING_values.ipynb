{
  "cells": [
    {
      "cell_type": "code",
      "execution_count": null,
      "metadata": {
        "id": "EKgo0SyMXZ4b"
      },
      "outputs": [],
      "source": [
        "import pandas as pd\n",
        "import numpy as np\n",
        "import matplotlib.pyplot as plt\n",
        "from statsmodels.tsa.arima.model import ARIMA\n",
        "import pandas as pd\n",
        "import statsmodels.api as sm\n",
        "from sklearn.metrics import mean_absolute_percentage_error as mape\n",
        "\n",
        "# Load the data from the CSV file\n",
        "df11 = pd.read_csv('/content/adilabad.csv')\n"
      ]
    },
    {
      "cell_type": "code",
      "execution_count": null,
      "metadata": {
        "colab": {
          "base_uri": "https://localhost:8080/"
        },
        "id": "C9JkaYOLEG3E",
        "outputId": "4125f2ed-8e1c-4193-81b1-b799465aaea1"
      },
      "outputs": [
        {
          "name": "stdout",
          "output_type": "stream",
          "text": [
            "Index(['Mandal', 'Date', 'Rain (mm)', 'Min_Temp', 'Max_Temp',\n",
            "       'Min Humidity (%)', 'Max Humidity (%)', 'Min Wind Speed (Kmph)',\n",
            "       'Max Wind Speed (Kmph)', 'SO2', 'Nox', 'PM 10', 'PM 2.5', 'NH3',\n",
            "       'Petrol Vehicle', 'Diesel Vehicle', 'Electric Vehicle', '1-3 seater',\n",
            "       '4-7 seater', '8-20 seater', '20+ seater', 'AQI'],\n",
            "      dtype='object')\n"
          ]
        }
      ],
      "source": [
        "print(df11.columns)"
      ]
    },
    {
      "cell_type": "code",
      "execution_count": null,
      "metadata": {
        "id": "qvQ_RyvxXyfj"
      },
      "outputs": [],
      "source": [
        "# Specify the input CSV file path and output CSV file path\n",
        "input_file = '/content/adilabad.csv'\n",
        "output_file = 'output.csv'\n",
        "\n",
        "# Specify the columns to be copied\n",
        "columns_to_copy = ['Mandal', 'Date', 'SO2']\n",
        "\n",
        "# Load the input CSV file into a pandas DataFrame\n",
        "df_1 = pd.read_csv(input_file)\n",
        "\n",
        "# Create a new DataFrame containing only the specified columns\n",
        "df = df_1[columns_to_copy]\n",
        "\n",
        "# Write the new DataFrame to a new CSV file\n",
        "df.to_csv(output_file, index=False)"
      ]
    },
    {
      "cell_type": "code",
      "execution_count": null,
      "metadata": {
        "colab": {
          "base_uri": "https://localhost:8080/"
        },
        "id": "yoSawg8GZdsu",
        "outputId": "669f5f68-55ee-4385-a6ca-9cfafed7d1d4"
      },
      "outputs": [
        {
          "name": "stdout",
          "output_type": "stream",
          "text": [
            "Index(['Mandal', 'Date', 'SO2'], dtype='object')\n"
          ]
        }
      ],
      "source": [
        "print(df.columns)"
      ]
    },
    {
      "cell_type": "code",
      "execution_count": null,
      "metadata": {
        "colab": {
          "background_save": true,
          "base_uri": "https://localhost:8080/"
        },
        "id": "dz-U2AQVXf_R",
        "outputId": "efcc86fe-e3cb-441b-81b1-4e7d4e76f590"
      },
      "outputs": [
        {
          "name": "stderr",
          "output_type": "stream",
          "text": [
            "<ipython-input-6-f1b8c0e3999e>:1: SettingWithCopyWarning: \n",
            "A value is trying to be set on a copy of a slice from a DataFrame.\n",
            "Try using .loc[row_indexer,col_indexer] = value instead\n",
            "\n",
            "See the caveats in the documentation: https://pandas.pydata.org/pandas-docs/stable/user_guide/indexing.html#returning-a-view-versus-a-copy\n",
            "  df['Date'] = pd.to_datetime(df['Date'])\n",
            "/usr/local/lib/python3.8/dist-packages/statsmodels/tsa/base/tsa_model.py:471: ValueWarning: A date index has been provided, but it has no associated frequency information and so will be ignored when e.g. forecasting.\n",
            "  self._init_dates(dates, freq)\n",
            "/usr/local/lib/python3.8/dist-packages/statsmodels/tsa/base/tsa_model.py:471: ValueWarning: A date index has been provided, but it is not monotonic and so will be ignored when e.g. forecasting.\n",
            "  self._init_dates(dates, freq)\n",
            "/usr/local/lib/python3.8/dist-packages/statsmodels/tsa/base/tsa_model.py:471: ValueWarning: A date index has been provided, but it has no associated frequency information and so will be ignored when e.g. forecasting.\n",
            "  self._init_dates(dates, freq)\n",
            "/usr/local/lib/python3.8/dist-packages/statsmodels/tsa/base/tsa_model.py:471: ValueWarning: A date index has been provided, but it is not monotonic and so will be ignored when e.g. forecasting.\n",
            "  self._init_dates(dates, freq)\n",
            "/usr/local/lib/python3.8/dist-packages/statsmodels/tsa/statespace/sarimax.py:1009: UserWarning: Non-invertible starting seasonal moving average Using zeros as starting parameters.\n",
            "  warn('Non-invertible starting seasonal moving average'\n"
          ]
        }
      ],
      "source": [
        "df['Date'] = pd.to_datetime(df['Date'])\n",
        "\n",
        "# Set the index of the DataFrame to be the 'Date' column\n",
        "df.set_index('Date', inplace=True)\n",
        "\n",
        "# Group the data by 'Mandal'\n",
        "grouped = df.groupby('Mandal')\n",
        "\n",
        "# Loop through each group, fit a SARIMAX model, and make a forecast\n",
        "forecasts = {}\n",
        "for group_name, group_data in grouped:\n",
        "    # Split the data into train and test sets\n",
        "    train_data = group_data\n",
        "    # test_data = group_data[-365:]\n",
        "\n",
        "    # Fit a SARIMAX model to the train data\n",
        "    model = sm.tsa.statespace.SARIMAX(train_data['SO2'], order=(1, 1, 1), seasonal_order=(1, 1, 1, 365))\n",
        "    results = model.fit()\n",
        "\n",
        "    # Make a forecast for the test data\n",
        "    forecast = results.forecast(steps=426)\n",
        "\n",
        "    # Store the forecast in a dictionary with the group name as the key\n",
        "    forecasts[group_name] = forecast\n",
        "\n",
        "# Combine the forecasts for each group into a single DataFrame\n",
        "forecast_df = pd.concat(forecasts, axis=1)\n",
        "\n",
        "# Rename the columns to match the original DataFrame\n",
        "forecast_df.columns = forecast_df.columns\n",
        "\n",
        "# Print the forecasts for the next 365 days\n",
        "print(forecast_df.tail(426))\n",
        "forecast_df.to_csv(\"forecast_SO2.csv\")"
      ]
    }
  ],
  "metadata": {
    "colab": {
      "provenance": []
    },
    "kernelspec": {
      "display_name": "Python 3",
      "name": "python3"
    },
    "language_info": {
      "name": "python"
    }
  },
  "nbformat": 4,
  "nbformat_minor": 0
}